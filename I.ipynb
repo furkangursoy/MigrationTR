{
 "cells": [
  {
   "cell_type": "markdown",
   "metadata": {
    "id": "AOOr2rtbq2QY"
   },
   "source": [
    "## Libraries, configuration"
   ]
  },
  {
   "cell_type": "code",
   "execution_count": null,
   "metadata": {
    "colab": {
     "base_uri": "https://localhost:8080/"
    },
    "executionInfo": {
     "elapsed": 3189,
     "status": "ok",
     "timestamp": 1622354645352,
     "user": {
      "displayName": "Furkan Gürsoy",
      "photoUrl": "https://lh6.googleusercontent.com/-sAS7aQq2NJo/AAAAAAAAAAI/AAAAAAAABIo/aqGr3JWzgvg/s64/photo.jpg",
      "userId": "14930153312656269547"
     },
     "user_tz": -180
    },
    "id": "p_A49AFu9U7v",
    "outputId": "8b77bb53-42b8-4012-8ad9-b8105d2b2dde"
   },
   "outputs": [],
   "source": [
    "!pip install signed_backbones"
   ]
  },
  {
   "cell_type": "code",
   "execution_count": null,
   "metadata": {
    "executionInfo": {
     "elapsed": 950,
     "status": "ok",
     "timestamp": 1622354654591,
     "user": {
      "displayName": "Furkan Gürsoy",
      "photoUrl": "https://lh6.googleusercontent.com/-sAS7aQq2NJo/AAAAAAAAAAI/AAAAAAAABIo/aqGr3JWzgvg/s64/photo.jpg",
      "userId": "14930153312656269547"
     },
     "user_tz": -180
    },
    "id": "m1kXSomi8aRj"
   },
   "outputs": [],
   "source": [
    "import pandas as pd\n",
    "import numpy as np\n",
    "import random\n",
    "from scipy.linalg import orthogonal_procrustes\n",
    "import signed_backbones as sb\n"
   ]
  },
  {
   "cell_type": "markdown",
   "metadata": {
    "id": "TZq4ZPvBq7Mf"
   },
   "source": [
    "## Read data, extract backbones"
   ]
  },
  {
   "cell_type": "code",
   "execution_count": null,
   "metadata": {
    "id": "5DBUilWT8ciJ"
   },
   "outputs": [],
   "source": [
    "data = pd.read_csv('input/migration.csv', header = None).fillna(method='ffill')\n",
    "data = data.loc[data[3] != 0,:].reset_index(drop=True)\n"
   ]
  },
  {
   "cell_type": "code",
   "execution_count": null,
   "metadata": {
    "colab": {
     "base_uri": "https://localhost:8080/"
    },
    "executionInfo": {
     "elapsed": 5479,
     "status": "ok",
     "timestamp": 1621488841107,
     "user": {
      "displayName": "Furkan Gürsoy",
      "photoUrl": "https://lh6.googleusercontent.com/-sAS7aQq2NJo/AAAAAAAAAAI/AAAAAAAABIo/aqGr3JWzgvg/s64/photo.jpg",
      "userId": "14930153312656269547"
     },
     "user_tz": -180
    },
    "id": "XF69ypUZegvQ",
    "outputId": "d3ccef60-9212-4564-d50b-e04511a1b9db"
   },
   "outputs": [],
   "source": [
    "for year in range(2008, 2021):\n",
    "  df = data.loc[data[0] == year, :]\n",
    "  bb = sb.extract(df.loc[:, [1,2,3]], directed=True, significance_threshold= 0, vigor_threshold=0, return_weights=True, return_significance=True)\n",
    "  pd.DataFrame(bb).to_csv('output/backbones/{}.csv'.format(year),index = False)"
   ]
  },
  {
   "cell_type": "markdown",
   "metadata": {
    "id": "ta4MGMafq-No"
   },
   "source": [
    "## Learn and align embeddings"
   ]
  },
  {
   "cell_type": "code",
   "execution_count": null,
   "metadata": {
    "colab": {
     "base_uri": "https://localhost:8080/"
    },
    "executionInfo": {
     "elapsed": 3505340,
     "status": "ok",
     "timestamp": 1621493463575,
     "user": {
      "displayName": "Furkan Gürsoy",
      "photoUrl": "https://lh6.googleusercontent.com/-sAS7aQq2NJo/AAAAAAAAAAI/AAAAAAAABIo/aqGr3JWzgvg/s64/photo.jpg",
      "userId": "14930153312656269547"
     },
     "user_tz": -180
    },
    "id": "DTE3D43sfZaO",
    "outputId": "8de3cb8c-4ff3-459c-cc0f-1f3dc2eaf3e3"
   },
   "outputs": [],
   "source": [
    "n_epochs = 100\n",
    "learning_rate = 0.01\n",
    "\n",
    "cost_by_vector_year = []\n",
    "\n",
    "for vector_size in range(2,13):\n",
    "  for year in range(2008, 2021):\n",
    "    bb = pd.read_csv('output/backbones/{}.csv'.format(year)).iloc[:, [0,1,2]]\n",
    "\n",
    "    coccur = []\n",
    "    for x, y in bb.iterrows():\n",
    "      coccur.append((y[0], y[1], y[2]))\n",
    "    scores = coccur.copy()\n",
    "\n",
    "    ctrs = list(set(bb['0']) | set(bb['1']))\n",
    "    n_nodes = len(ctrs)\n",
    "    # print(n_nodes, \"non\")\n",
    "    W = (np.random.rand(n_nodes, vector_size) - 0.5) / float(vector_size + 1)\n",
    "    w = dict(zip(ctrs, W))\n",
    "    # print(len(coccur))\n",
    "    cost_info = []\n",
    "    for i in range(n_epochs):\n",
    "      global_cost = 0\n",
    "      random.shuffle(coccur)\n",
    "      for (v_main, v_context, score) in coccur:\n",
    "        norm_main, norm_context  = np.linalg.norm(w[v_main]), np.linalg.norm(w[v_context])\n",
    "        cosine = np.dot(w[v_main], w[v_context]) / (norm_main * norm_context)\n",
    "        cost = np.abs(cosine - score)\n",
    "        global_cost += cost\n",
    "\n",
    "        grad_main    = ((score - cosine) / np.abs(score - cosine)) * (cosine * (w[v_main]    / (norm_main**2))    - (w[v_context] / (norm_context * norm_main)))\n",
    "        grad_context = ((score - cosine) / np.abs(score - cosine)) * (cosine * (w[v_context] / (norm_context**2)) - (w[v_main] /    (norm_main * norm_context)))\n",
    "\n",
    "        w[v_main]    -= (learning_rate * grad_main )\n",
    "        w[v_context] -= (learning_rate * grad_context )\n",
    "\n",
    "      # print(global_cost)  \n",
    "      for ctr in w:\n",
    "        w[ctr] = w[ctr] / np.linalg.norm(w[ctr])\n",
    "      cost_info.append(global_cost)\n",
    "    \n",
    "    avg_cost = global_cost / len(coccur)\n",
    "    print(year, vector_size, global_cost, avg_cost)\n",
    "    cost_by_vector_year.append([year, vector_size, global_cost, avg_cost])\n",
    "    pd.DataFrame(w).transpose().to_csv('output/emb/{}_{}.csv'.format(year, vector_size), index = True)\n",
    "    pd.DataFrame(cost_info).to_csv('output/emb/{}_{}_cost.csv'.format(year, vector_size), index = True)\n"
   ]
  },
  {
   "cell_type": "code",
   "execution_count": null,
   "metadata": {
    "id": "4o9HSMYgi6B-"
   },
   "outputs": [],
   "source": [
    "for vector_size in range(2,13):\n",
    "  embs = dict()\n",
    "  for year in range(2008, 2021):\n",
    "    embs.update({year:pd.read_csv('output/emb/{}_{}.csv'.format(year, vector_size), index_col= 0)})\n",
    "\n",
    "  for year in range(2008, 2020):\n",
    "    A = embs[year].loc[embs[year].index.isin(embs[year+1].index), :]\n",
    "    B = embs[year+1].loc[embs[year+1].index.isin(embs[year].index), :]\n",
    "\n",
    "    R, _ = orthogonal_procrustes(B, A)\n",
    "\n",
    "    embs[year+1] = embs[year+1] @ R\n",
    "\n",
    "\n",
    "  for year in range(2008, 2021):\n",
    "    embs[year].to_csv('output/emb/{}_{}_aligned.csv'.format(year, vector_size))\n"
   ]
  }
 ],
 "metadata": {
  "colab": {
   "collapsed_sections": [
    "AOOr2rtbq2QY",
    "TZq4ZPvBq7Mf",
    "ta4MGMafq-No",
    "4ggoXBooqtFR",
    "gQDGTahOs_vQ",
    "_frwMpdXj63W",
    "vHrM30f3jbr9",
    "pSqULMTy3y5l",
    "ouROjw8831ey"
   ],
   "name": "ML",
   "provenance": [
    {
     "file_id": "/v2/external/notebooks/intro.ipynb",
     "timestamp": 1621202341789
    }
   ]
  },
  "kernelspec": {
   "display_name": "Python 3",
   "language": "python",
   "name": "python3"
  },
  "language_info": {
   "codemirror_mode": {
    "name": "ipython",
    "version": 3
   },
   "file_extension": ".py",
   "mimetype": "text/x-python",
   "name": "python",
   "nbconvert_exporter": "python",
   "pygments_lexer": "ipython3",
   "version": "3.9.2"
  }
 },
 "nbformat": 4,
 "nbformat_minor": 1
}
